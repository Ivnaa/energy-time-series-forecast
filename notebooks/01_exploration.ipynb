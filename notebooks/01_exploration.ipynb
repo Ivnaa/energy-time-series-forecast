{
 "cells": [
  {
   "cell_type": "markdown",
   "id": "d5b3af92-ef14-4a9d-bad1-54b0fbd67a69",
   "metadata": {},
   "source": [
    "# Projeto: Séries Temporais de Consumo de Energia"
   ]
  },
  {
   "cell_type": "code",
   "execution_count": 30,
   "id": "0b8f6644-9666-4206-8d48-585f950fe87c",
   "metadata": {},
   "outputs": [],
   "source": [
    "# 1️⃣ IMPORTAR BIBLIOTECAS\n",
    "import pandas as pd\n",
    "import matplotlib.pyplot as plt\n",
    "from sklearn.linear_model import LinearRegression\n",
    "from sklearn.cluster import KMeans\n",
    "import numpy as np\n",
    "from sklearn.model_selection import train_test_split\n",
    "from sklearn.metrics import mean_squared_error, r2_score"
   ]
  },
  {
   "cell_type": "code",
   "execution_count": 6,
   "id": "f3e5e854-c583-438b-905e-ed71fd5ceec2",
   "metadata": {},
   "outputs": [
    {
     "name": "stderr",
     "output_type": "stream",
     "text": [
      "C:\\Users\\Ivna Façanha\\AppData\\Local\\Temp\\ipykernel_9468\\3070374760.py:5: DtypeWarning: Columns (2,3,4,5,6,7) have mixed types. Specify dtype option on import or set low_memory=False.\n",
      "  df = pd.read_csv(\n"
     ]
    },
    {
     "data": {
      "text/html": [
       "<div>\n",
       "<style scoped>\n",
       "    .dataframe tbody tr th:only-of-type {\n",
       "        vertical-align: middle;\n",
       "    }\n",
       "\n",
       "    .dataframe tbody tr th {\n",
       "        vertical-align: top;\n",
       "    }\n",
       "\n",
       "    .dataframe thead th {\n",
       "        text-align: right;\n",
       "    }\n",
       "</style>\n",
       "<table border=\"1\" class=\"dataframe\">\n",
       "  <thead>\n",
       "    <tr style=\"text-align: right;\">\n",
       "      <th></th>\n",
       "      <th>Global_active_power</th>\n",
       "      <th>Global_reactive_power</th>\n",
       "      <th>Voltage</th>\n",
       "      <th>Global_intensity</th>\n",
       "      <th>Sub_metering_1</th>\n",
       "      <th>Sub_metering_2</th>\n",
       "      <th>Sub_metering_3</th>\n",
       "    </tr>\n",
       "    <tr>\n",
       "      <th>Datetime</th>\n",
       "      <th></th>\n",
       "      <th></th>\n",
       "      <th></th>\n",
       "      <th></th>\n",
       "      <th></th>\n",
       "      <th></th>\n",
       "      <th></th>\n",
       "    </tr>\n",
       "  </thead>\n",
       "  <tbody>\n",
       "    <tr>\n",
       "      <th>2006-12-16 17:24:00</th>\n",
       "      <td>4.216</td>\n",
       "      <td>0.418</td>\n",
       "      <td>234.840</td>\n",
       "      <td>18.400</td>\n",
       "      <td>0.000</td>\n",
       "      <td>1.000</td>\n",
       "      <td>17.0</td>\n",
       "    </tr>\n",
       "    <tr>\n",
       "      <th>2006-12-16 17:25:00</th>\n",
       "      <td>5.360</td>\n",
       "      <td>0.436</td>\n",
       "      <td>233.630</td>\n",
       "      <td>23.000</td>\n",
       "      <td>0.000</td>\n",
       "      <td>1.000</td>\n",
       "      <td>16.0</td>\n",
       "    </tr>\n",
       "    <tr>\n",
       "      <th>2006-12-16 17:26:00</th>\n",
       "      <td>5.374</td>\n",
       "      <td>0.498</td>\n",
       "      <td>233.290</td>\n",
       "      <td>23.000</td>\n",
       "      <td>0.000</td>\n",
       "      <td>2.000</td>\n",
       "      <td>17.0</td>\n",
       "    </tr>\n",
       "    <tr>\n",
       "      <th>2006-12-16 17:27:00</th>\n",
       "      <td>5.388</td>\n",
       "      <td>0.502</td>\n",
       "      <td>233.740</td>\n",
       "      <td>23.000</td>\n",
       "      <td>0.000</td>\n",
       "      <td>1.000</td>\n",
       "      <td>17.0</td>\n",
       "    </tr>\n",
       "    <tr>\n",
       "      <th>2006-12-16 17:28:00</th>\n",
       "      <td>3.666</td>\n",
       "      <td>0.528</td>\n",
       "      <td>235.680</td>\n",
       "      <td>15.800</td>\n",
       "      <td>0.000</td>\n",
       "      <td>1.000</td>\n",
       "      <td>17.0</td>\n",
       "    </tr>\n",
       "  </tbody>\n",
       "</table>\n",
       "</div>"
      ],
      "text/plain": [
       "                    Global_active_power Global_reactive_power  Voltage  \\\n",
       "Datetime                                                                 \n",
       "2006-12-16 17:24:00               4.216                 0.418  234.840   \n",
       "2006-12-16 17:25:00               5.360                 0.436  233.630   \n",
       "2006-12-16 17:26:00               5.374                 0.498  233.290   \n",
       "2006-12-16 17:27:00               5.388                 0.502  233.740   \n",
       "2006-12-16 17:28:00               3.666                 0.528  235.680   \n",
       "\n",
       "                    Global_intensity Sub_metering_1 Sub_metering_2  \\\n",
       "Datetime                                                             \n",
       "2006-12-16 17:24:00           18.400          0.000          1.000   \n",
       "2006-12-16 17:25:00           23.000          0.000          1.000   \n",
       "2006-12-16 17:26:00           23.000          0.000          2.000   \n",
       "2006-12-16 17:27:00           23.000          0.000          1.000   \n",
       "2006-12-16 17:28:00           15.800          0.000          1.000   \n",
       "\n",
       "                     Sub_metering_3  \n",
       "Datetime                             \n",
       "2006-12-16 17:24:00            17.0  \n",
       "2006-12-16 17:25:00            16.0  \n",
       "2006-12-16 17:26:00            17.0  \n",
       "2006-12-16 17:27:00            17.0  \n",
       "2006-12-16 17:28:00            17.0  "
      ]
     },
     "execution_count": 6,
     "metadata": {},
     "output_type": "execute_result"
    }
   ],
   "source": [
    "# 2️⃣ CARREGAR O DATASET\n",
    "file_path = \"../data/household_power_consumption.txt\"\n",
    "\n",
    "# Ler o arquivo com separador ponto-e-vírgula e cabeçalho\n",
    "df = pd.read_csv(\n",
    "    file_path,\n",
    "    sep=\";\",           # separador ponto-e-vírgula\n",
    "    dayfirst=True      # dia/mês/ano\n",
    ")\n",
    "\n",
    "# Combinar as colunas Date e Time em uma coluna datetime\n",
    "df[\"Datetime\"] = pd.to_datetime(df[\"Date\"] + \" \" + df[\"Time\"], dayfirst=True)\n",
    "\n",
    "# Definir Datetime como índice\n",
    "df.set_index(\"Datetime\", inplace=True)\n",
    "\n",
    "# Remover as colunas antigas de data e hora\n",
    "df.drop([\"Date\", \"Time\"], axis=1, inplace=True)\n",
    "\n",
    "# Mostrar primeiras linhas\n",
    "df.head()"
   ]
  },
  {
   "cell_type": "code",
   "execution_count": 7,
   "id": "9e83aa3e-5d4d-46c8-b95c-9fda2a2294fe",
   "metadata": {},
   "outputs": [
    {
     "data": {
      "text/html": [
       "<div>\n",
       "<style scoped>\n",
       "    .dataframe tbody tr th:only-of-type {\n",
       "        vertical-align: middle;\n",
       "    }\n",
       "\n",
       "    .dataframe tbody tr th {\n",
       "        vertical-align: top;\n",
       "    }\n",
       "\n",
       "    .dataframe thead th {\n",
       "        text-align: right;\n",
       "    }\n",
       "</style>\n",
       "<table border=\"1\" class=\"dataframe\">\n",
       "  <thead>\n",
       "    <tr style=\"text-align: right;\">\n",
       "      <th></th>\n",
       "      <th>Sub_metering_3</th>\n",
       "    </tr>\n",
       "  </thead>\n",
       "  <tbody>\n",
       "    <tr>\n",
       "      <th>count</th>\n",
       "      <td>2.049280e+06</td>\n",
       "    </tr>\n",
       "    <tr>\n",
       "      <th>mean</th>\n",
       "      <td>6.458447e+00</td>\n",
       "    </tr>\n",
       "    <tr>\n",
       "      <th>std</th>\n",
       "      <td>8.437154e+00</td>\n",
       "    </tr>\n",
       "    <tr>\n",
       "      <th>min</th>\n",
       "      <td>0.000000e+00</td>\n",
       "    </tr>\n",
       "    <tr>\n",
       "      <th>25%</th>\n",
       "      <td>0.000000e+00</td>\n",
       "    </tr>\n",
       "    <tr>\n",
       "      <th>50%</th>\n",
       "      <td>1.000000e+00</td>\n",
       "    </tr>\n",
       "    <tr>\n",
       "      <th>75%</th>\n",
       "      <td>1.700000e+01</td>\n",
       "    </tr>\n",
       "    <tr>\n",
       "      <th>max</th>\n",
       "      <td>3.100000e+01</td>\n",
       "    </tr>\n",
       "  </tbody>\n",
       "</table>\n",
       "</div>"
      ],
      "text/plain": [
       "       Sub_metering_3\n",
       "count    2.049280e+06\n",
       "mean     6.458447e+00\n",
       "std      8.437154e+00\n",
       "min      0.000000e+00\n",
       "25%      0.000000e+00\n",
       "50%      1.000000e+00\n",
       "75%      1.700000e+01\n",
       "max      3.100000e+01"
      ]
     },
     "execution_count": 7,
     "metadata": {},
     "output_type": "execute_result"
    }
   ],
   "source": [
    "# Usando o método describe para exploração dos dados\n",
    "df.describe()"
   ]
  },
  {
   "cell_type": "code",
   "execution_count": 8,
   "id": "ac832e66-6082-47f7-9d28-ade2d7ba046a",
   "metadata": {},
   "outputs": [
    {
     "data": {
      "text/plain": [
       "Global_active_power      0.000000\n",
       "Global_reactive_power    0.000000\n",
       "Voltage                  0.000000\n",
       "Global_intensity         0.000000\n",
       "Sub_metering_1           0.000000\n",
       "Sub_metering_2           0.000000\n",
       "Sub_metering_3           1.251844\n",
       "dtype: float64"
      ]
     },
     "execution_count": 8,
     "metadata": {},
     "output_type": "execute_result"
    }
   ],
   "source": [
    "df.isna().mean() * 100"
   ]
  },
  {
   "cell_type": "code",
   "execution_count": 12,
   "id": "a409859c-69c3-47d9-ad7b-974dbf693ebd",
   "metadata": {},
   "outputs": [],
   "source": [
    "# Tratando os dados faltantes em \"Sub_metering_3\"\n",
    "df = df.ffill()"
   ]
  },
  {
   "cell_type": "code",
   "execution_count": 14,
   "id": "893d657e-19c1-45d8-a218-55b9c6174aa9",
   "metadata": {},
   "outputs": [
    {
     "data": {
      "text/plain": [
       "Global_active_power      0.0\n",
       "Global_reactive_power    0.0\n",
       "Voltage                  0.0\n",
       "Global_intensity         0.0\n",
       "Sub_metering_1           0.0\n",
       "Sub_metering_2           0.0\n",
       "Sub_metering_3           0.0\n",
       "dtype: float64"
      ]
     },
     "execution_count": 14,
     "metadata": {},
     "output_type": "execute_result"
    }
   ],
   "source": [
    "# Conferindo a limpeza\n",
    "df.isna().mean() * 100"
   ]
  },
  {
   "cell_type": "code",
   "execution_count": 17,
   "id": "a44caeb4-1d90-4761-914e-18f46fa40ac0",
   "metadata": {},
   "outputs": [
    {
     "data": {
      "text/plain": [
       "dtype('<M8[ns]')"
      ]
     },
     "execution_count": 17,
     "metadata": {},
     "output_type": "execute_result"
    }
   ],
   "source": [
    "df.index.dtype"
   ]
  },
  {
   "cell_type": "code",
   "execution_count": 20,
   "id": "f06f6337-82ec-4205-90a5-15c03af2cf5d",
   "metadata": {},
   "outputs": [
    {
     "name": "stdout",
     "output_type": "stream",
     "text": [
      "Global_active_power       object\n",
      "Global_reactive_power     object\n",
      "Voltage                   object\n",
      "Global_intensity          object\n",
      "Sub_metering_1            object\n",
      "Sub_metering_2            object\n",
      "Sub_metering_3           float64\n",
      "dtype: object\n"
     ]
    }
   ],
   "source": [
    "print(df.dtypes)"
   ]
  },
  {
   "cell_type": "code",
   "execution_count": 21,
   "id": "6c3212c9-182b-4f83-926f-671a83d0db4c",
   "metadata": {},
   "outputs": [],
   "source": [
    "for col in df.columns:\n",
    "    df[col] = pd.to_numeric(df[col], errors='coerce')"
   ]
  },
  {
   "cell_type": "code",
   "execution_count": 22,
   "id": "78646f89-e5a2-492f-8e30-9c5e36ddd661",
   "metadata": {},
   "outputs": [
    {
     "name": "stdout",
     "output_type": "stream",
     "text": [
      "Global_active_power      float64\n",
      "Global_reactive_power    float64\n",
      "Voltage                  float64\n",
      "Global_intensity         float64\n",
      "Sub_metering_1           float64\n",
      "Sub_metering_2           float64\n",
      "Sub_metering_3           float64\n",
      "dtype: object\n"
     ]
    }
   ],
   "source": [
    "print(df.dtypes)"
   ]
  },
  {
   "cell_type": "code",
   "execution_count": 23,
   "id": "35a150e6-a929-41e8-bbe8-1e612c4e4517",
   "metadata": {},
   "outputs": [
    {
     "data": {
      "text/plain": [
       "Global_active_power      1.251844\n",
       "Global_reactive_power    1.251844\n",
       "Voltage                  1.251844\n",
       "Global_intensity         1.251844\n",
       "Sub_metering_1           1.251844\n",
       "Sub_metering_2           1.251844\n",
       "Sub_metering_3           0.000000\n",
       "dtype: float64"
      ]
     },
     "execution_count": 23,
     "metadata": {},
     "output_type": "execute_result"
    }
   ],
   "source": [
    "df.isna().mean() * 100"
   ]
  },
  {
   "cell_type": "code",
   "execution_count": 24,
   "id": "9d434aeb-9f8c-4595-8f45-039b0203bf9e",
   "metadata": {},
   "outputs": [
    {
     "name": "stdout",
     "output_type": "stream",
     "text": [
      "                     Global_active_power  Global_reactive_power  Voltage  \\\n",
      "Datetime                                                                   \n",
      "2006-12-21 11:23:00                  NaN                    NaN      NaN   \n",
      "2006-12-21 11:24:00                  NaN                    NaN      NaN   \n",
      "2006-12-30 10:08:00                  NaN                    NaN      NaN   \n",
      "2006-12-30 10:09:00                  NaN                    NaN      NaN   \n",
      "2007-01-14 18:36:00                  NaN                    NaN      NaN   \n",
      "2007-01-28 17:13:00                  NaN                    NaN      NaN   \n",
      "2007-02-22 22:58:00                  NaN                    NaN      NaN   \n",
      "2007-02-22 22:59:00                  NaN                    NaN      NaN   \n",
      "2007-03-25 17:52:00                  NaN                    NaN      NaN   \n",
      "2007-04-28 00:21:00                  NaN                    NaN      NaN   \n",
      "\n",
      "                     Global_intensity  Sub_metering_1  Sub_metering_2  \\\n",
      "Datetime                                                                \n",
      "2006-12-21 11:23:00               NaN             NaN             NaN   \n",
      "2006-12-21 11:24:00               NaN             NaN             NaN   \n",
      "2006-12-30 10:08:00               NaN             NaN             NaN   \n",
      "2006-12-30 10:09:00               NaN             NaN             NaN   \n",
      "2007-01-14 18:36:00               NaN             NaN             NaN   \n",
      "2007-01-28 17:13:00               NaN             NaN             NaN   \n",
      "2007-02-22 22:58:00               NaN             NaN             NaN   \n",
      "2007-02-22 22:59:00               NaN             NaN             NaN   \n",
      "2007-03-25 17:52:00               NaN             NaN             NaN   \n",
      "2007-04-28 00:21:00               NaN             NaN             NaN   \n",
      "\n",
      "                     Sub_metering_3  \n",
      "Datetime                             \n",
      "2006-12-21 11:23:00             0.0  \n",
      "2006-12-21 11:24:00             0.0  \n",
      "2006-12-30 10:08:00            18.0  \n",
      "2006-12-30 10:09:00            18.0  \n",
      "2007-01-14 18:36:00            16.0  \n",
      "2007-01-28 17:13:00            17.0  \n",
      "2007-02-22 22:58:00            17.0  \n",
      "2007-02-22 22:59:00            17.0  \n",
      "2007-03-25 17:52:00             0.0  \n",
      "2007-04-28 00:21:00             0.0  \n",
      "Total de datas com valores faltantes: 25979\n"
     ]
    }
   ],
   "source": [
    "# Procurar linhas com valores ausentes em alguma coluna\n",
    "missing_dates = df[df.isna().any(axis=1)]\n",
    "\n",
    "print(missing_dates.head(10))\n",
    "print(f\"Total de datas com valores faltantes: {missing_dates.shape[0]}\")"
   ]
  },
  {
   "cell_type": "code",
   "execution_count": 25,
   "id": "dc5db965-d0c3-4623-a9f3-e71c3ee3bee5",
   "metadata": {},
   "outputs": [],
   "source": [
    "df = df.ffill()"
   ]
  },
  {
   "cell_type": "code",
   "execution_count": 26,
   "id": "564d0665-ea02-40a4-b3be-b13e9bdab19d",
   "metadata": {},
   "outputs": [
    {
     "data": {
      "text/plain": [
       "Global_active_power      0.0\n",
       "Global_reactive_power    0.0\n",
       "Voltage                  0.0\n",
       "Global_intensity         0.0\n",
       "Sub_metering_1           0.0\n",
       "Sub_metering_2           0.0\n",
       "Sub_metering_3           0.0\n",
       "dtype: float64"
      ]
     },
     "execution_count": 26,
     "metadata": {},
     "output_type": "execute_result"
    }
   ],
   "source": [
    "df.isna().mean() * 100"
   ]
  },
  {
   "cell_type": "code",
   "execution_count": 27,
   "id": "143bd510-f606-4b1e-971d-cf9fab21743a",
   "metadata": {},
   "outputs": [
    {
     "data": {
      "image/png": "[encoded data removed]",
      "text/plain": [
       "<Figure size 1200x500 with 1 Axes>"
      ]
     },
     "metadata": {},
     "output_type": "display_data"
    }
   ],
   "source": [
    "# VISUALIZAÇÃO\n",
    "plt.figure(figsize=(12,5))\n",
    "plt.plot(df.index, df[\"Global_active_power\"], color=\"blue\", label=\"Global Active Power\")\n",
    "plt.title(\"Consumo de Energia (Potência Ativa)\")\n",
    "plt.xlabel(\"Data\")\n",
    "plt.ylabel(\"kW\")\n",
    "plt.legend()\n",
    "plt.show()"
   ]
  },
  {
   "cell_type": "code",
   "execution_count": 28,
   "id": "c4881719-4ed7-407b-b5ff-cf0cc44be6ee",
   "metadata": {},
   "outputs": [
    {
     "name": "stderr",
     "output_type": "stream",
     "text": [
      "C:\\Users\\Ivna Façanha\\AppData\\Local\\Programs\\Python\\Python313\\Lib\\site-packages\\IPython\\core\\pylabtools.py:170: UserWarning: Creating legend with loc=\"best\" can be slow with large amounts of data.\n",
      "  fig.canvas.print_figure(bytes_io, **kw)\n"
     ]
    },
    {
     "data": {
      "image/png": "[encoded data removed]",
      "text/plain": [
       "<Figure size 1200x500 with 1 Axes>"
      ]
     },
     "metadata": {},
     "output_type": "display_data"
    }
   ],
   "source": [
    "# Visualizar sub-meterings\n",
    "plt.figure(figsize=(12,5))\n",
    "plt.plot(df.index, df[\"Sub_metering_1\"], label=\"Cozinha\")\n",
    "plt.plot(df.index, df[\"Sub_metering_2\"], label=\"Lavanderia\")\n",
    "plt.plot(df.index, df[\"Sub_metering_3\"], label=\"Aquecimento/Ar\")\n",
    "plt.title(\"Sub-meterings\")\n",
    "plt.xlabel(\"Data\")\n",
    "plt.ylabel(\"Wh\")\n",
    "plt.legend()\n",
    "plt.show()"
   ]
  },
  {
   "cell_type": "code",
   "execution_count": 31,
   "id": "a2c1bfd0-ad3f-4eee-8a57-309b59bda0e3",
   "metadata": {},
   "outputs": [
    {
     "name": "stdout",
     "output_type": "stream",
     "text": [
      "Dataset limpo salvo em data/household_power_consumption_processed.csv\n"
     ]
    }
   ],
   "source": [
    "# Salvar os dados explorados e limpos em csv\n",
    "df.to_csv(\"../data/household_power_consumption_processed.csv\", index=True)\n",
    "\n",
    "print(\"Dataset limpo salvo em data/household_power_consumption_processed.csv\")"
   ]
  },
  {
   "cell_type": "code",
   "execution_count": null,
   "id": "42b38ecf-3738-4486-88a0-fb6561769725",
   "metadata": {},
   "outputs": [],
   "source": []
  }
 ],
 "metadata": {
  "kernelspec": {
   "display_name": "Python 3 (ipykernel)",
   "language": "python",
   "name": "python3"
  },
  "language_info": {
   "codemirror_mode": {
    "name": "ipython",
    "version": 3
   },
   "file_extension": ".py",
   "mimetype": "text/x-python",
   "name": "python",
   "nbconvert_exporter": "python",
   "pygments_lexer": "ipython3",
   "version": "3.13.2"
  }
 },
 "nbformat": 4,
 "nbformat_minor": 5
}
